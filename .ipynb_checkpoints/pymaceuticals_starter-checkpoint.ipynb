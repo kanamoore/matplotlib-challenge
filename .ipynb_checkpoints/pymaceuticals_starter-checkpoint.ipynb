{
 "cells": [
  {
   "cell_type": "markdown",
   "metadata": {},
   "source": [
    "# Observations and Insights\n",
    "\n"
   ]
  },
  {
   "cell_type": "markdown",
   "metadata": {},
   "source": [
    "Firstly, only Ramicane and Capomulin were successful at reducing tumor volume. Ramicane and Capomulin reduced average tumor volume by roughly 11%-12%, whereas other treatments increased average tumor volume by roughly 16%-22% after 45 days of treatment.\n",
    "\n",
    "Secondly,there was a positive correlation between mouse weight and average tumor volume for the Capomulin treatment, r= 0.84, p = < 0.001.\n",
    "\n",
    "Lastly, Capomulin yielded the highest mouse survival rate, which was about 84%, whereas Propriva yielded only 28% based on the number of mice on day 1 versus day 45 of the treatment duration."
   ]
  },
  {
   "cell_type": "markdown",
   "metadata": {},
   "source": [
    "## Dependencies and starter code"
   ]
  },
  {
   "cell_type": "code",
   "execution_count": 1,
   "metadata": {},
   "outputs": [
    {
     "data": {
      "text/html": [
       "<div>\n",
       "<style scoped>\n",
       "    .dataframe tbody tr th:only-of-type {\n",
       "        vertical-align: middle;\n",
       "    }\n",
       "\n",
       "    .dataframe tbody tr th {\n",
       "        vertical-align: top;\n",
       "    }\n",
       "\n",
       "    .dataframe thead th {\n",
       "        text-align: right;\n",
       "    }\n",
       "</style>\n",
       "<table border=\"1\" class=\"dataframe\">\n",
       "  <thead>\n",
       "    <tr style=\"text-align: right;\">\n",
       "      <th></th>\n",
       "      <th>Mouse ID</th>\n",
       "      <th>Drug Regimen</th>\n",
       "      <th>Sex</th>\n",
       "      <th>Age_months</th>\n",
       "      <th>Weight (g)</th>\n",
       "      <th>Timepoint</th>\n",
       "      <th>Tumor Volume (mm3)</th>\n",
       "      <th>Metastatic Sites</th>\n",
       "    </tr>\n",
       "  </thead>\n",
       "  <tbody>\n",
       "    <tr>\n",
       "      <td>0</td>\n",
       "      <td>k403</td>\n",
       "      <td>Ramicane</td>\n",
       "      <td>Male</td>\n",
       "      <td>21</td>\n",
       "      <td>16</td>\n",
       "      <td>0</td>\n",
       "      <td>45.000000</td>\n",
       "      <td>0</td>\n",
       "    </tr>\n",
       "    <tr>\n",
       "      <td>1</td>\n",
       "      <td>k403</td>\n",
       "      <td>Ramicane</td>\n",
       "      <td>Male</td>\n",
       "      <td>21</td>\n",
       "      <td>16</td>\n",
       "      <td>5</td>\n",
       "      <td>38.825898</td>\n",
       "      <td>0</td>\n",
       "    </tr>\n",
       "    <tr>\n",
       "      <td>2</td>\n",
       "      <td>k403</td>\n",
       "      <td>Ramicane</td>\n",
       "      <td>Male</td>\n",
       "      <td>21</td>\n",
       "      <td>16</td>\n",
       "      <td>10</td>\n",
       "      <td>35.014271</td>\n",
       "      <td>1</td>\n",
       "    </tr>\n",
       "    <tr>\n",
       "      <td>3</td>\n",
       "      <td>k403</td>\n",
       "      <td>Ramicane</td>\n",
       "      <td>Male</td>\n",
       "      <td>21</td>\n",
       "      <td>16</td>\n",
       "      <td>15</td>\n",
       "      <td>34.223992</td>\n",
       "      <td>1</td>\n",
       "    </tr>\n",
       "    <tr>\n",
       "      <td>4</td>\n",
       "      <td>k403</td>\n",
       "      <td>Ramicane</td>\n",
       "      <td>Male</td>\n",
       "      <td>21</td>\n",
       "      <td>16</td>\n",
       "      <td>20</td>\n",
       "      <td>32.997729</td>\n",
       "      <td>1</td>\n",
       "    </tr>\n",
       "  </tbody>\n",
       "</table>\n",
       "</div>"
      ],
      "text/plain": [
       "  Mouse ID Drug Regimen   Sex  Age_months  Weight (g)  Timepoint  \\\n",
       "0     k403     Ramicane  Male          21          16          0   \n",
       "1     k403     Ramicane  Male          21          16          5   \n",
       "2     k403     Ramicane  Male          21          16         10   \n",
       "3     k403     Ramicane  Male          21          16         15   \n",
       "4     k403     Ramicane  Male          21          16         20   \n",
       "\n",
       "   Tumor Volume (mm3)  Metastatic Sites  \n",
       "0           45.000000                 0  \n",
       "1           38.825898                 0  \n",
       "2           35.014271                 1  \n",
       "3           34.223992                 1  \n",
       "4           32.997729                 1  "
      ]
     },
     "execution_count": 1,
     "metadata": {},
     "output_type": "execute_result"
    }
   ],
   "source": [
    "# Dependencies and Setup\n",
    "import matplotlib.pyplot as plt\n",
    "import pandas as pd\n",
    "import scipy.stats as st\n",
    "import numpy as np\n",
    "from scipy.stats import linregress\n",
    "\n",
    "# Study data files\n",
    "mouse_metadata = \"data/Mouse_metadata.csv\"\n",
    "study_results = \"data/Study_results.csv\"\n",
    "\n",
    "# Read the mouse data and the study results\n",
    "mouse_metadata = pd.read_csv(mouse_metadata)\n",
    "study_results = pd.read_csv(study_results)\n",
    "\n",
    "# Combine the data into a single dataset\n",
    "combined_df = pd.merge(mouse_metadata, study_results, on = \"Mouse ID\") \n",
    "combined_df.head()"
   ]
  },
  {
   "cell_type": "markdown",
   "metadata": {},
   "source": [
    "## Summary statistics"
   ]
  },
  {
   "cell_type": "code",
   "execution_count": 2,
   "metadata": {},
   "outputs": [],
   "source": [
    "# Calculate mean of tumor volume by drug regimen\n",
    "mean = combined_df.groupby(\"Drug Regimen\")[\"Tumor Volume (mm3)\"].mean()\n",
    "\n",
    "# Calculate median of tumor volume by drug regimen\n",
    "median = combined_df.groupby(\"Drug Regimen\")[\"Tumor Volume (mm3)\"].median()\n",
    "\n",
    "# Calculate variance of tumor volume by drug regimen\n",
    "variance = combined_df.groupby(\"Drug Regimen\")[\"Tumor Volume (mm3)\"].var()\n",
    "\n",
    "# Calculate standard deviation of tumor volume by drug regimen\n",
    "stdev = combined_df.groupby(\"Drug Regimen\")[\"Tumor Volume (mm3)\"].std()\n",
    "\n",
    "# Calculate SEM of tumor volume by drug regimen\n",
    "sem = combined_df.groupby(\"Drug Regimen\")[\"Tumor Volume (mm3)\"].sem()"
   ]
  },
  {
   "cell_type": "code",
   "execution_count": 3,
   "metadata": {},
   "outputs": [
    {
     "data": {
      "text/html": [
       "<div>\n",
       "<style scoped>\n",
       "    .dataframe tbody tr th:only-of-type {\n",
       "        vertical-align: middle;\n",
       "    }\n",
       "\n",
       "    .dataframe tbody tr th {\n",
       "        vertical-align: top;\n",
       "    }\n",
       "\n",
       "    .dataframe thead th {\n",
       "        text-align: right;\n",
       "    }\n",
       "</style>\n",
       "<table border=\"1\" class=\"dataframe\">\n",
       "  <thead>\n",
       "    <tr style=\"text-align: right;\">\n",
       "      <th></th>\n",
       "      <th>Mean of Tumor Volume (mm3)</th>\n",
       "      <th>Median of Tumor Volume (mm3)</th>\n",
       "      <th>Variance of Tumor Volume (mm3)</th>\n",
       "      <th>Standard Deviation of Tumor Volume (mm3)</th>\n",
       "      <th>SEM of Tumor Volume (mm3)</th>\n",
       "    </tr>\n",
       "    <tr>\n",
       "      <th>Drug Regimen</th>\n",
       "      <th></th>\n",
       "      <th></th>\n",
       "      <th></th>\n",
       "      <th></th>\n",
       "      <th></th>\n",
       "    </tr>\n",
       "  </thead>\n",
       "  <tbody>\n",
       "    <tr>\n",
       "      <td>Capomulin</td>\n",
       "      <td>40.675741</td>\n",
       "      <td>41.557809</td>\n",
       "      <td>24.947764</td>\n",
       "      <td>4.994774</td>\n",
       "      <td>0.329346</td>\n",
       "    </tr>\n",
       "    <tr>\n",
       "      <td>Ceftamin</td>\n",
       "      <td>52.591172</td>\n",
       "      <td>51.776157</td>\n",
       "      <td>39.290177</td>\n",
       "      <td>6.268188</td>\n",
       "      <td>0.469821</td>\n",
       "    </tr>\n",
       "    <tr>\n",
       "      <td>Infubinol</td>\n",
       "      <td>52.884795</td>\n",
       "      <td>51.820584</td>\n",
       "      <td>43.128684</td>\n",
       "      <td>6.567243</td>\n",
       "      <td>0.492236</td>\n",
       "    </tr>\n",
       "    <tr>\n",
       "      <td>Ketapril</td>\n",
       "      <td>55.235638</td>\n",
       "      <td>53.698743</td>\n",
       "      <td>68.553577</td>\n",
       "      <td>8.279709</td>\n",
       "      <td>0.603860</td>\n",
       "    </tr>\n",
       "    <tr>\n",
       "      <td>Naftisol</td>\n",
       "      <td>54.331565</td>\n",
       "      <td>52.509285</td>\n",
       "      <td>66.173479</td>\n",
       "      <td>8.134708</td>\n",
       "      <td>0.596466</td>\n",
       "    </tr>\n",
       "    <tr>\n",
       "      <td>Placebo</td>\n",
       "      <td>54.033581</td>\n",
       "      <td>52.288934</td>\n",
       "      <td>61.168083</td>\n",
       "      <td>7.821003</td>\n",
       "      <td>0.581331</td>\n",
       "    </tr>\n",
       "    <tr>\n",
       "      <td>Propriva</td>\n",
       "      <td>52.322552</td>\n",
       "      <td>50.854632</td>\n",
       "      <td>42.351070</td>\n",
       "      <td>6.507770</td>\n",
       "      <td>0.512884</td>\n",
       "    </tr>\n",
       "    <tr>\n",
       "      <td>Ramicane</td>\n",
       "      <td>40.216745</td>\n",
       "      <td>40.673236</td>\n",
       "      <td>23.486704</td>\n",
       "      <td>4.846308</td>\n",
       "      <td>0.320955</td>\n",
       "    </tr>\n",
       "    <tr>\n",
       "      <td>Stelasyn</td>\n",
       "      <td>54.233149</td>\n",
       "      <td>52.431737</td>\n",
       "      <td>59.450562</td>\n",
       "      <td>7.710419</td>\n",
       "      <td>0.573111</td>\n",
       "    </tr>\n",
       "    <tr>\n",
       "      <td>Zoniferol</td>\n",
       "      <td>53.236507</td>\n",
       "      <td>51.818479</td>\n",
       "      <td>48.533355</td>\n",
       "      <td>6.966589</td>\n",
       "      <td>0.516398</td>\n",
       "    </tr>\n",
       "  </tbody>\n",
       "</table>\n",
       "</div>"
      ],
      "text/plain": [
       "              Mean of Tumor Volume (mm3)  Median of Tumor Volume (mm3)  \\\n",
       "Drug Regimen                                                             \n",
       "Capomulin                      40.675741                     41.557809   \n",
       "Ceftamin                       52.591172                     51.776157   \n",
       "Infubinol                      52.884795                     51.820584   \n",
       "Ketapril                       55.235638                     53.698743   \n",
       "Naftisol                       54.331565                     52.509285   \n",
       "Placebo                        54.033581                     52.288934   \n",
       "Propriva                       52.322552                     50.854632   \n",
       "Ramicane                       40.216745                     40.673236   \n",
       "Stelasyn                       54.233149                     52.431737   \n",
       "Zoniferol                      53.236507                     51.818479   \n",
       "\n",
       "              Variance of Tumor Volume (mm3)  \\\n",
       "Drug Regimen                                   \n",
       "Capomulin                          24.947764   \n",
       "Ceftamin                           39.290177   \n",
       "Infubinol                          43.128684   \n",
       "Ketapril                           68.553577   \n",
       "Naftisol                           66.173479   \n",
       "Placebo                            61.168083   \n",
       "Propriva                           42.351070   \n",
       "Ramicane                           23.486704   \n",
       "Stelasyn                           59.450562   \n",
       "Zoniferol                          48.533355   \n",
       "\n",
       "              Standard Deviation of Tumor Volume (mm3)  \\\n",
       "Drug Regimen                                             \n",
       "Capomulin                                     4.994774   \n",
       "Ceftamin                                      6.268188   \n",
       "Infubinol                                     6.567243   \n",
       "Ketapril                                      8.279709   \n",
       "Naftisol                                      8.134708   \n",
       "Placebo                                       7.821003   \n",
       "Propriva                                      6.507770   \n",
       "Ramicane                                      4.846308   \n",
       "Stelasyn                                      7.710419   \n",
       "Zoniferol                                     6.966589   \n",
       "\n",
       "              SEM of Tumor Volume (mm3)  \n",
       "Drug Regimen                             \n",
       "Capomulin                      0.329346  \n",
       "Ceftamin                       0.469821  \n",
       "Infubinol                      0.492236  \n",
       "Ketapril                       0.603860  \n",
       "Naftisol                       0.596466  \n",
       "Placebo                        0.581331  \n",
       "Propriva                       0.512884  \n",
       "Ramicane                       0.320955  \n",
       "Stelasyn                       0.573111  \n",
       "Zoniferol                      0.516398  "
      ]
     },
     "execution_count": 3,
     "metadata": {},
     "output_type": "execute_result"
    }
   ],
   "source": [
    "# Create a statistic summary table\n",
    "statistic_summary = pd.DataFrame({\"Mean of Tumor Volume (mm3)\" : mean,\n",
    "                                  \"Median of Tumor Volume (mm3)\" : median,\n",
    "                                  \"Variance of Tumor Volume (mm3)\" : variance,\n",
    "                                  \"Standard Deviation of Tumor Volume (mm3)\" : stdev,\n",
    "                                  \"SEM of Tumor Volume (mm3)\" : sem})\n",
    "\n",
    "statistic_summary"
   ]
  },
  {
   "cell_type": "code",
   "execution_count": 4,
   "metadata": {},
   "outputs": [
    {
     "data": {
      "text/plain": [
       "Drug Regimen\n",
       "Capomulin    25\n",
       "Ceftamin     25\n",
       "Infubinol    25\n",
       "Ketapril     25\n",
       "Naftisol     25\n",
       "Placebo      25\n",
       "Propriva     25\n",
       "Ramicane     25\n",
       "Stelasyn     24\n",
       "Zoniferol    25\n",
       "Name: Mouse ID, dtype: int64"
      ]
     },
     "execution_count": 4,
     "metadata": {},
     "output_type": "execute_result"
    }
   ],
   "source": [
    "# Retrive number of mouse used for each drug regimen\n",
    "mouse_count_regimen = combined_df.groupby(\"Drug Regimen\")[\"Mouse ID\"].nunique()\n",
    "mouse_count_regimen"
   ]
  },
  {
   "cell_type": "markdown",
   "metadata": {},
   "source": [
    "\n",
    "## Bar plots"
   ]
  },
  {
   "cell_type": "code",
   "execution_count": 5,
   "metadata": {},
   "outputs": [
    {
     "data": {
      "image/png": "[encoded data removed]",
      "text/plain": [
       "<Figure size 720x468 with 1 Axes>"
      ]
     },
     "metadata": {
      "needs_background": "light"
     },
     "output_type": "display_data"
    }
   ],
   "source": [
    "# Retrive data point value for each drug regimen\n",
    "data_point = combined_df[\"Drug Regimen\"].value_counts()\n",
    "\n",
    "# Create a bar plot using pandas\n",
    "pandas_plot = data_point.plot(kind = \"bar\", title = \"Number of Data Points for Each Treatment Regimen\",\n",
    "                                     figsize= (10,6.5), width = 0.75, align = \"center\")\n",
    "\n",
    "# Set x-axis label\n",
    "pandas_plot.set_xlabel(\"Drug Regimen\")\n",
    "\n",
    "# Set y-axis label\n",
    "pandas_plot.set_ylabel(\"Data Points (Days)\")\n",
    "\n",
    "# Set x limit and y limit\n",
    "pandas_plot.set_xlim(-0.75, len(data_point)-0.2)\n",
    "pandas_plot.set_ylim(0, max(data_point) + 20)\n",
    "\n",
    "# Show the bar chart\n",
    "plt.show()"
   ]
  },
  {
   "cell_type": "code",
   "execution_count": 6,
   "metadata": {},
   "outputs": [
    {
     "data": {
      "image/png": "[encoded data removed]",
      "text/plain": [
       "<Figure size 720x468 with 1 Axes>"
      ]
     },
     "metadata": {
      "needs_background": "light"
     },
     "output_type": "display_data"
    }
   ],
   "source": [
    "# Retrive index from data_point value counts to use for x axis\n",
    "x_axis = data_point.index.tolist()\n",
    "\n",
    "# Change the figure size\n",
    "plt.figure(figsize=(10,6.5))\n",
    "\n",
    "# Create a bar plot using matplotlib\n",
    "plt.bar(x_axis, data_point, width = 0.75, align = \"center\")\n",
    "\n",
    "# # Change x axis rotation to vertical\n",
    "plt.xticks(rotation = \"vertical\")\n",
    "\n",
    "# Add x axis label\n",
    "plt.xlabel(\"Drug Regimen\")\n",
    "\n",
    "# Add y axis label\n",
    "plt.ylabel(\"Number of Data Points (Days)\")\n",
    "\n",
    "# Add title\n",
    "plt.title(\"Number of Data Points for Each Treatment Regimen\")\n",
    "\n",
    "# Set x limit and y limit\n",
    "plt.xlim(-0.75, len(x_axis)-0.2)\n",
    "plt.ylim(0, max(data_point) + 20)\n",
    "\n",
    "# Show the plot\n",
    "plt.show()\n"
   ]
  },
  {
   "cell_type": "markdown",
   "metadata": {},
   "source": [
    "## Pie plots"
   ]
  },
  {
   "cell_type": "code",
   "execution_count": 7,
   "metadata": {},
   "outputs": [
    {
     "data": {
      "image/png": "[encoded data removed]",
      "text/plain": [
       "<Figure size 432x288 with 1 Axes>"
      ]
     },
     "metadata": {},
     "output_type": "display_data"
    }
   ],
   "source": [
    "# Drop duplicates of mice id to get unique data\n",
    "gender_mice = combined_df.drop_duplicates(\"Mouse ID\")\n",
    "\n",
    "# Get number counts for male and female mice\n",
    "gender_mice = gender_mice[\"Sex\"].value_counts()\n",
    "\n",
    "# Generate a pie plot showing the distribution of female versus male mice using pandas\n",
    "gender_mice.plot(kind=\"pie\", autopct = \"%1.1f%%\", startangle = 90, title = \"Distribution of Female Mice vs Male Mice\")\n",
    "\n",
    "# Set the pie figure to equal\n",
    "plt.axis(\"equal\")\n",
    "\n",
    "# Set the legend\n",
    "plt.legend(loc = \"upper right\")\n",
    "\n",
    "# Show the plot\n",
    "plt.show()"
   ]
  },
  {
   "cell_type": "code",
   "execution_count": 8,
   "metadata": {},
   "outputs": [
    {
     "data": {
      "image/png": "[encoded data removed]",
      "text/plain": [
       "<Figure size 432x288 with 1 Axes>"
      ]
     },
     "metadata": {},
     "output_type": "display_data"
    }
   ],
   "source": [
    "# Set data labels\n",
    "labels = [\"Male\", \"Female\"]\n",
    "\n",
    "# Generate a pie plot showing the distribution of female versus male mice using pyplot\n",
    "plt.pie(gender_mice, labels = labels, autopct = \"%1.1f%%\", startangle = 90)\n",
    "\n",
    "# Set the title\n",
    "plt.title(\"Distribution of Female Mice vs Male Mice\")\n",
    "\n",
    "# Set the y axis label\n",
    "plt.ylabel(\"Sex\")\n",
    "\n",
    "# Set the pie figure to equal\n",
    "plt.axis(\"equal\")\n",
    "\n",
    "# Set the legend\n",
    "plt.legend(loc = \"upper right\")\n",
    "\n",
    "# Show the plot\n",
    "plt.show()"
   ]
  },
  {
   "cell_type": "markdown",
   "metadata": {},
   "source": [
    "## Quartiles, outliers and boxplots"
   ]
  },
  {
   "cell_type": "code",
   "execution_count": 9,
   "metadata": {},
   "outputs": [
    {
     "data": {
      "text/html": [
       "<div>\n",
       "<style scoped>\n",
       "    .dataframe tbody tr th:only-of-type {\n",
       "        vertical-align: middle;\n",
       "    }\n",
       "\n",
       "    .dataframe tbody tr th {\n",
       "        vertical-align: top;\n",
       "    }\n",
       "\n",
       "    .dataframe thead th {\n",
       "        text-align: right;\n",
       "    }\n",
       "</style>\n",
       "<table border=\"1\" class=\"dataframe\">\n",
       "  <thead>\n",
       "    <tr style=\"text-align: right;\">\n",
       "      <th></th>\n",
       "      <th>Mouse ID</th>\n",
       "      <th>Drug Regimen</th>\n",
       "      <th>Sex</th>\n",
       "      <th>Age_months</th>\n",
       "      <th>Weight (g)</th>\n",
       "      <th>Timepoint</th>\n",
       "      <th>Tumor Volume (mm3)</th>\n",
       "      <th>Metastatic Sites</th>\n",
       "    </tr>\n",
       "  </thead>\n",
       "  <tbody>\n",
       "    <tr>\n",
       "      <td>463</td>\n",
       "      <td>a203</td>\n",
       "      <td>Infubinol</td>\n",
       "      <td>Female</td>\n",
       "      <td>20</td>\n",
       "      <td>23</td>\n",
       "      <td>45</td>\n",
       "      <td>67.973419</td>\n",
       "      <td>2</td>\n",
       "    </tr>\n",
       "    <tr>\n",
       "      <td>473</td>\n",
       "      <td>a251</td>\n",
       "      <td>Infubinol</td>\n",
       "      <td>Female</td>\n",
       "      <td>21</td>\n",
       "      <td>25</td>\n",
       "      <td>45</td>\n",
       "      <td>65.525743</td>\n",
       "      <td>1</td>\n",
       "    </tr>\n",
       "    <tr>\n",
       "      <td>483</td>\n",
       "      <td>a262</td>\n",
       "      <td>Placebo</td>\n",
       "      <td>Female</td>\n",
       "      <td>17</td>\n",
       "      <td>29</td>\n",
       "      <td>45</td>\n",
       "      <td>70.717621</td>\n",
       "      <td>4</td>\n",
       "    </tr>\n",
       "    <tr>\n",
       "      <td>493</td>\n",
       "      <td>a275</td>\n",
       "      <td>Ceftamin</td>\n",
       "      <td>Female</td>\n",
       "      <td>20</td>\n",
       "      <td>28</td>\n",
       "      <td>45</td>\n",
       "      <td>62.999356</td>\n",
       "      <td>3</td>\n",
       "    </tr>\n",
       "    <tr>\n",
       "      <td>500</td>\n",
       "      <td>a366</td>\n",
       "      <td>Stelasyn</td>\n",
       "      <td>Female</td>\n",
       "      <td>16</td>\n",
       "      <td>29</td>\n",
       "      <td>30</td>\n",
       "      <td>63.440686</td>\n",
       "      <td>1</td>\n",
       "    </tr>\n",
       "  </tbody>\n",
       "</table>\n",
       "</div>"
      ],
      "text/plain": [
       "    Mouse ID Drug Regimen     Sex  Age_months  Weight (g)  Timepoint  \\\n",
       "463     a203    Infubinol  Female          20          23         45   \n",
       "473     a251    Infubinol  Female          21          25         45   \n",
       "483     a262      Placebo  Female          17          29         45   \n",
       "493     a275     Ceftamin  Female          20          28         45   \n",
       "500     a366     Stelasyn  Female          16          29         30   \n",
       "\n",
       "     Tumor Volume (mm3)  Metastatic Sites  \n",
       "463           67.973419                 2  \n",
       "473           65.525743                 1  \n",
       "483           70.717621                 4  \n",
       "493           62.999356                 3  \n",
       "500           63.440686                 1  "
      ]
     },
     "execution_count": 9,
     "metadata": {},
     "output_type": "execute_result"
    }
   ],
   "source": [
    "# Retreive the last time point for each mouse\n",
    "last_tumor_volume = combined_df.loc[combined_df.groupby(\"Mouse ID\")[\"Timepoint\"].idxmax()]\n",
    "last_tumor_volume.head()"
   ]
  },
  {
   "cell_type": "code",
   "execution_count": 10,
   "metadata": {},
   "outputs": [
    {
     "data": {
      "text/html": [
       "<div>\n",
       "<style scoped>\n",
       "    .dataframe tbody tr th:only-of-type {\n",
       "        vertical-align: middle;\n",
       "    }\n",
       "\n",
       "    .dataframe tbody tr th {\n",
       "        vertical-align: top;\n",
       "    }\n",
       "\n",
       "    .dataframe thead th {\n",
       "        text-align: right;\n",
       "    }\n",
       "</style>\n",
       "<table border=\"1\" class=\"dataframe\">\n",
       "  <thead>\n",
       "    <tr style=\"text-align: right;\">\n",
       "      <th></th>\n",
       "      <th></th>\n",
       "      <th>Tumor Volume (mm3)</th>\n",
       "    </tr>\n",
       "    <tr>\n",
       "      <th>Drug Regimen</th>\n",
       "      <th>Mouse ID</th>\n",
       "      <th></th>\n",
       "    </tr>\n",
       "  </thead>\n",
       "  <tbody>\n",
       "    <tr>\n",
       "      <td rowspan=\"5\" valign=\"top\">Capomulin</td>\n",
       "      <td>l897</td>\n",
       "      <td>38.846876</td>\n",
       "    </tr>\n",
       "    <tr>\n",
       "      <td>j119</td>\n",
       "      <td>38.125164</td>\n",
       "    </tr>\n",
       "    <tr>\n",
       "      <td>j246</td>\n",
       "      <td>38.753265</td>\n",
       "    </tr>\n",
       "    <tr>\n",
       "      <td>u364</td>\n",
       "      <td>31.023923</td>\n",
       "    </tr>\n",
       "    <tr>\n",
       "      <td>g316</td>\n",
       "      <td>40.159220</td>\n",
       "    </tr>\n",
       "    <tr>\n",
       "      <td>...</td>\n",
       "      <td>...</td>\n",
       "      <td>...</td>\n",
       "    </tr>\n",
       "    <tr>\n",
       "      <td rowspan=\"5\" valign=\"top\">Ramicane</td>\n",
       "      <td>j913</td>\n",
       "      <td>31.560470</td>\n",
       "    </tr>\n",
       "    <tr>\n",
       "      <td>j989</td>\n",
       "      <td>36.134852</td>\n",
       "    </tr>\n",
       "    <tr>\n",
       "      <td>k403</td>\n",
       "      <td>22.050126</td>\n",
       "    </tr>\n",
       "    <tr>\n",
       "      <td>m546</td>\n",
       "      <td>30.564625</td>\n",
       "    </tr>\n",
       "    <tr>\n",
       "      <td>g791</td>\n",
       "      <td>29.128472</td>\n",
       "    </tr>\n",
       "  </tbody>\n",
       "</table>\n",
       "<p>100 rows × 1 columns</p>\n",
       "</div>"
      ],
      "text/plain": [
       "                       Tumor Volume (mm3)\n",
       "Drug Regimen Mouse ID                    \n",
       "Capomulin    l897               38.846876\n",
       "             j119               38.125164\n",
       "             j246               38.753265\n",
       "             u364               31.023923\n",
       "             g316               40.159220\n",
       "...                                   ...\n",
       "Ramicane     j913               31.560470\n",
       "             j989               36.134852\n",
       "             k403               22.050126\n",
       "             m546               30.564625\n",
       "             g791               29.128472\n",
       "\n",
       "[100 rows x 1 columns]"
      ]
     },
     "execution_count": 10,
     "metadata": {},
     "output_type": "execute_result"
    }
   ],
   "source": [
    "# Retrieve data of each mouse across four of the most promising treatment regimens: \n",
    "# Capomulin, Ramicane, Infubinol, and Ceftamin. \n",
    "four_regimen = last_tumor_volume.loc[(last_tumor_volume[\"Drug Regimen\"] == \"Capomulin\") |\n",
    "                                     (last_tumor_volume[\"Drug Regimen\"] == \"Ramicane\") |\n",
    "                                     (last_tumor_volume[\"Drug Regimen\"] == \"Infubinol\") |\n",
    "                                     (last_tumor_volume[\"Drug Regimen\"] == \"Ceftamin\")]\n",
    "\n",
    "# Calculate the final tumor volume of each mouse across four of the most promising treatment regimens: \n",
    "regimen_summary = four_regimen[[\"Drug Regimen\", \"Mouse ID\",\"Tumor Volume (mm3)\"]].set_index([\"Drug Regimen\", \"Mouse ID\"]).sort_values(\"Drug Regimen\")\n",
    "regimen_summary"
   ]
  },
  {
   "cell_type": "code",
   "execution_count": 11,
   "metadata": {},
   "outputs": [
    {
     "data": {
      "text/plain": [
       "array(['Infubinol', 'Ceftamin', 'Ramicane', 'Capomulin'], dtype=object)"
      ]
     },
     "execution_count": 11,
     "metadata": {},
     "output_type": "execute_result"
    }
   ],
   "source": [
    "# Retrive four drug regimens\n",
    "regimen_name = four_regimen[\"Drug Regimen\"].unique()\n",
    "regimen_name"
   ]
  },
  {
   "cell_type": "code",
   "execution_count": 12,
   "metadata": {},
   "outputs": [
    {
     "data": {
      "text/html": [
       "<div>\n",
       "<style scoped>\n",
       "    .dataframe tbody tr th:only-of-type {\n",
       "        vertical-align: middle;\n",
       "    }\n",
       "\n",
       "    .dataframe tbody tr th {\n",
       "        vertical-align: top;\n",
       "    }\n",
       "\n",
       "    .dataframe thead th {\n",
       "        text-align: right;\n",
       "    }\n",
       "</style>\n",
       "<table border=\"1\" class=\"dataframe\">\n",
       "  <thead>\n",
       "    <tr style=\"text-align: right;\">\n",
       "      <th></th>\n",
       "      <th>Regimen</th>\n",
       "      <th>Lower Quartile of Tumor Volume (mm3)</th>\n",
       "      <th>Upper Quartile of Tumor Volume (mm3)</th>\n",
       "      <th>Median of Tumor Volume (mm3)</th>\n",
       "      <th>IQR of Tumor Volume (mm3)</th>\n",
       "      <th>Lower Bound of Tumor Volume (mm3)</th>\n",
       "      <th>Upper Bound of Tumor Volume (mm3)</th>\n",
       "      <th>Number of Outliers</th>\n",
       "    </tr>\n",
       "  </thead>\n",
       "  <tbody>\n",
       "    <tr>\n",
       "      <td>0</td>\n",
       "      <td>Infubinol</td>\n",
       "      <td>54.05</td>\n",
       "      <td>65.53</td>\n",
       "      <td>60.17</td>\n",
       "      <td>11.48</td>\n",
       "      <td>36.83</td>\n",
       "      <td>82.75</td>\n",
       "      <td>1</td>\n",
       "    </tr>\n",
       "    <tr>\n",
       "      <td>1</td>\n",
       "      <td>Ceftamin</td>\n",
       "      <td>48.72</td>\n",
       "      <td>64.30</td>\n",
       "      <td>59.85</td>\n",
       "      <td>15.58</td>\n",
       "      <td>25.35</td>\n",
       "      <td>87.67</td>\n",
       "      <td>0</td>\n",
       "    </tr>\n",
       "    <tr>\n",
       "      <td>2</td>\n",
       "      <td>Ramicane</td>\n",
       "      <td>31.56</td>\n",
       "      <td>40.66</td>\n",
       "      <td>36.56</td>\n",
       "      <td>9.10</td>\n",
       "      <td>17.91</td>\n",
       "      <td>54.31</td>\n",
       "      <td>0</td>\n",
       "    </tr>\n",
       "    <tr>\n",
       "      <td>3</td>\n",
       "      <td>Capomulin</td>\n",
       "      <td>32.38</td>\n",
       "      <td>40.16</td>\n",
       "      <td>38.13</td>\n",
       "      <td>7.78</td>\n",
       "      <td>20.71</td>\n",
       "      <td>51.83</td>\n",
       "      <td>0</td>\n",
       "    </tr>\n",
       "  </tbody>\n",
       "</table>\n",
       "</div>"
      ],
      "text/plain": [
       "     Regimen  Lower Quartile of Tumor Volume (mm3)  \\\n",
       "0  Infubinol                                 54.05   \n",
       "1   Ceftamin                                 48.72   \n",
       "2   Ramicane                                 31.56   \n",
       "3  Capomulin                                 32.38   \n",
       "\n",
       "   Upper Quartile of Tumor Volume (mm3)  Median of Tumor Volume (mm3)  \\\n",
       "0                                 65.53                         60.17   \n",
       "1                                 64.30                         59.85   \n",
       "2                                 40.66                         36.56   \n",
       "3                                 40.16                         38.13   \n",
       "\n",
       "   IQR of Tumor Volume (mm3)  Lower Bound of Tumor Volume (mm3)  \\\n",
       "0                      11.48                              36.83   \n",
       "1                      15.58                              25.35   \n",
       "2                       9.10                              17.91   \n",
       "3                       7.78                              20.71   \n",
       "\n",
       "   Upper Bound of Tumor Volume (mm3)  Number of Outliers  \n",
       "0                              82.75                   1  \n",
       "1                              87.67                   0  \n",
       "2                              54.31                   0  \n",
       "3                              51.83                   0  "
      ]
     },
     "execution_count": 12,
     "metadata": {},
     "output_type": "execute_result"
    }
   ],
   "source": [
    "# Create emplty list to hold the result after the loop\n",
    "upperq_list = []\n",
    "lowerq_list = []\n",
    "median_list = []\n",
    "iqr_list = []\n",
    "lower_bound_list = []\n",
    "upper_bound_list = []\n",
    "outliers_list = []\n",
    "\n",
    "# For each regimen, calculate quartiles, upper/lower quartile, mean, IQR and lower/upper bound\n",
    "for regimen in regimen_name:\n",
    "    outliers_count = 0\n",
    "    quartiles = four_regimen[\"Tumor Volume (mm3)\"].loc[four_regimen[\"Drug Regimen\"] == regimen].quantile([0.25, 0.5, 0.75])\n",
    "    upperq = round(quartiles[0.75],2)\n",
    "    lowerq = round(quartiles[0.25],2)\n",
    "    median = round(quartiles[0.5],2)\n",
    "    iqr = round(upperq-lowerq,2)\n",
    "    lower_bound = round(lowerq - (1.5 * iqr),2)\n",
    "    upper_bound = round(upperq + (1.5 * iqr),2)\n",
    "    \n",
    "    # Add each result to the list\n",
    "    upperq_list.append(upperq)\n",
    "    lowerq_list.append(lowerq)\n",
    "    median_list.append(median)\n",
    "    iqr_list.append(iqr)\n",
    "    lower_bound_list.append(lower_bound)\n",
    "    upper_bound_list.append(upper_bound)\n",
    "    \n",
    "    # For each data(volume), check if it is an outlier. If is it an outlier, increase the count by 1.\n",
    "    for volume in (four_regimen[\"Tumor Volume (mm3)\"].loc[(four_regimen[\"Drug Regimen\"] == regimen)]):\n",
    "        if (volume > upper_bound) | (volume < lower_bound):\n",
    "            outliers_count = outliers_count + 1\n",
    "    \n",
    "    # Put outliers count to the list. Put 0 if there isn't any\n",
    "    outliers_list.append(outliers_count)\n",
    "\n",
    "# Create a summary dataframe for each regimen   \n",
    "regimen_summary = pd.DataFrame({\"Regimen\" : regimen_name,\n",
    "                   \"Lower Quartile of Tumor Volume (mm3)\" : lowerq_list,\n",
    "                   \"Upper Quartile of Tumor Volume (mm3)\" : upperq_list,\n",
    "                   \"Median of Tumor Volume (mm3)\" : median_list,\n",
    "                   \"IQR of Tumor Volume (mm3)\" : iqr_list,\n",
    "                   \"Lower Bound of Tumor Volume (mm3)\" : lower_bound_list,\n",
    "                   \"Upper Bound of Tumor Volume (mm3)\" : upper_bound_list,\n",
    "                   \"Number of Outliers\" : outliers_list,            \n",
    "                    })   \n",
    "# Show the summary\n",
    "regimen_summary "
   ]
  },
  {
   "cell_type": "code",
   "execution_count": 13,
   "metadata": {},
   "outputs": [],
   "source": [
    "# Retrive the last tumor volume for each drug regimen\n",
    "capomulin_volume =  last_tumor_volume.loc[(last_tumor_volume[\"Drug Regimen\"] == \"Capomulin\")]\n",
    "ramicane_volume = last_tumor_volume.loc[(last_tumor_volume[\"Drug Regimen\"] == \"Ramicane\")]\n",
    "infubinol_volume = last_tumor_volume.loc[(last_tumor_volume[\"Drug Regimen\"] == \"Infubinol\")]\n",
    "ceftamin_volume = last_tumor_volume.loc[(last_tumor_volume[\"Drug Regimen\"] == \"Ceftamin\")]"
   ]
  },
  {
   "cell_type": "code",
   "execution_count": 14,
   "metadata": {},
   "outputs": [
    {
     "data": {
      "image/png": "[encoded data removed]",
      "text/plain": [
       "<Figure size 720x432 with 1 Axes>"
      ]
     },
     "metadata": {
      "needs_background": "light"
     },
     "output_type": "display_data"
    }
   ],
   "source": [
    "# Using Matplotlib, generate a box and whisker plot of the final tumor volume for all four treatment regimens\n",
    "data = [infubinol_volume[\"Tumor Volume (mm3)\"],ceftamin_volume[\"Tumor Volume (mm3)\"], \n",
    "        ramicane_volume[\"Tumor Volume (mm3)\"],capomulin_volume[\"Tumor Volume (mm3)\"]]\n",
    "\n",
    "# Highlight any potential outliers in the plot by changing their color and style.\n",
    "yellow_star = dict(markerfacecolor = 'yellow', marker = '*')\n",
    "\n",
    "# Create a subplot\n",
    "fig1, ax1 = plt.subplots(figsize=(10,6))\n",
    "\n",
    "# Set title\n",
    "ax1.set_title('Final Tumor Volume (mm3) by Four Regimen')\n",
    "\n",
    "# Set ylabel\n",
    "ax1.set_ylabel(\"Tumor Volume (mm3)\")\n",
    "\n",
    "# Create a boxplot\n",
    "ax1.boxplot(data, flierprops = yellow_star)\n",
    "\n",
    "# Change the x ticks to regimen name\n",
    "plt.xticks([1,2,3,4], regimen_name)\n",
    "\n",
    "# Show the plot\n",
    "plt.show()"
   ]
  },
  {
   "cell_type": "markdown",
   "metadata": {},
   "source": [
    "## Line and scatter plots"
   ]
  },
  {
   "cell_type": "code",
   "execution_count": 15,
   "metadata": {},
   "outputs": [
    {
     "data": {
      "text/plain": [
       "Text(0, 0.5, 'Tumor Volume (mm3)')"
      ]
     },
     "execution_count": 15,
     "metadata": {},
     "output_type": "execute_result"
    },
    {
     "data": {
      "image/png": "[encoded data removed]",
      "text/plain": [
       "<Figure size 720x432 with 1 Axes>"
      ]
     },
     "metadata": {
      "needs_background": "light"
     },
     "output_type": "display_data"
    }
   ],
   "source": [
    "# Retrive data only for Capomulin\n",
    "capomulin_data = combined_df.loc[(combined_df[\"Drug Regimen\"] == \"Capomulin\")]\n",
    "\n",
    "# Pick a single mouse. In this case, mouse id s195 is picked\n",
    "s185 = capomulin_data.loc[capomulin_data[\"Mouse ID\"] == \"s185\"]\n",
    "\n",
    "# Change the figure size\n",
    "plt.figure(figsize=(10,6))\n",
    "\n",
    "# Generate a line plot of time point versus tumor volume for a single mouse treated with Capomulin\n",
    "plt.plot(s185[\"Timepoint\"], s185[\"Tumor Volume (mm3)\"], marker = \"o\")\n",
    "\n",
    "# Set title\n",
    "plt.title(\"Time Point vs Tumor Volume of Mouse s185 (Treated w/ Capomulin)\")\n",
    "\n",
    "# Set xlabel\n",
    "plt.xlabel(\"Time Point (Days)\")\n",
    "\n",
    "# Set ylabel\n",
    "plt.ylabel(\"Tumor Volume (mm3)\")"
   ]
  },
  {
   "cell_type": "code",
   "execution_count": 16,
   "metadata": {},
   "outputs": [
    {
     "data": {
      "image/png": "[encoded data removed]",
      "text/plain": [
       "<Figure size 720x432 with 1 Axes>"
      ]
     },
     "metadata": {
      "needs_background": "light"
     },
     "output_type": "display_data"
    }
   ],
   "source": [
    "# Calculate average data for each mouse that was treated w/ Capomulin\n",
    "avg_mouse = capomulin_data.groupby(\"Mouse ID\").mean()\n",
    "\n",
    "# Retrive tumor volume for each mouse\n",
    "avg_volume = avg_mouse[\"Tumor Volume (mm3)\"]\n",
    "\n",
    "# Retrive average weight for each mouse\n",
    "avg_weight = avg_mouse[\"Weight (g)\"]\n",
    "\n",
    "# Change the figure size\n",
    "plt.figure(figsize=(10,6))\n",
    "\n",
    "# Generate a scatter plot of mouse weight versus average tumor volume for the Capomulin treatment regimen.\n",
    "plt.scatter(avg_weight, avg_volume)\n",
    "\n",
    "# Set title\n",
    "plt.title(\"Mouse Weight vs Average Tumor Volume (Treated w/ Capomulin)\")\n",
    "\n",
    "# Set xlabel\n",
    "plt.xlabel(\"Weight (g)\")\n",
    "\n",
    "# Set ylabel\n",
    "plt.ylabel(\"Tumor Volume (mm3)\")\n",
    "\n",
    "# Show the plot\n",
    "plt.show()"
   ]
  },
  {
   "cell_type": "code",
   "execution_count": 17,
   "metadata": {},
   "outputs": [
    {
     "name": "stdout",
     "output_type": "stream",
     "text": [
      "The correlation coefficient between mouse weight and average tumor volume for the Capomulin treatment is 0.84\n"
     ]
    },
    {
     "data": {
      "image/png": "[encoded data removed]",
      "text/plain": [
       "<Figure size 720x432 with 1 Axes>"
      ]
     },
     "metadata": {
      "needs_background": "light"
     },
     "output_type": "display_data"
    }
   ],
   "source": [
    "# Calculate the correlation coefficient between mouse weight and average tumor volume for the Capomulin treatment\n",
    "print(f\"The correlation coefficient between mouse weight and average tumor volume for the Capomulin treatment is \\\n",
    "{round(st.pearsonr(avg_weight, avg_volume)[0],2)}\")\n",
    "\n",
    "# Calculate the linear regression model between mouse weight and average tumor volume \n",
    "(slope, intercept, rvalue, pvalue, stderr) = linregress(avg_weight, avg_volume)\n",
    "\n",
    "# Set y = mx + b\n",
    "regress_values = avg_weight * slope + intercept\n",
    "line_eq = \"y = \" + str(round(slope,2)) + \"x + \" + str(round(intercept,2))\n",
    "\n",
    "# Change the figure size\n",
    "plt.figure(figsize=(10,6))\n",
    "\n",
    "# Create a scatter plot using average tumor volume and weight\n",
    "plt.scatter(avg_weight, avg_volume)\n",
    "\n",
    "# Set a title\n",
    "plt.title(\"Mouse Weight vs Average Tumor Volume (Treated w/ Capomulin)\")\n",
    "\n",
    "# Set xlabel\n",
    "plt.xlabel(\"Weight (g)\")\n",
    "\n",
    "# Set ylabel\n",
    "plt.ylabel(\"Tumor Volume (mm3)\")\n",
    "\n",
    "# Set the regression line\n",
    "plt.plot(avg_weight,regress_values,\"r-\")\n",
    "\n",
    "# Set the regression line label\n",
    "plt.annotate(line_eq,(20,40),fontsize=15,color=\"red\")\n",
    "\n",
    "# Show the plot\n",
    "plt.show()\n"
   ]
  },
  {
   "cell_type": "code",
   "execution_count": 18,
   "metadata": {},
   "outputs": [
    {
     "name": "stdout",
     "output_type": "stream",
     "text": [
      "(0.8419363424694717, 1.322572243471279e-07)\n"
     ]
    }
   ],
   "source": [
    "print(st.pearsonr(avg_weight, avg_volume))"
   ]
  },
  {
   "cell_type": "code",
   "execution_count": 19,
   "metadata": {},
   "outputs": [
    {
     "name": "stdout",
     "output_type": "stream",
     "text": [
      "In the beginning of the treatment, mouse count for each regimen was: \n",
      "Drug Regimen\n",
      "Capomulin    25\n",
      "Ceftamin     25\n",
      "Infubinol    25\n",
      "Ketapril     25\n",
      "Naftisol     25\n",
      "Placebo      25\n",
      "Propriva     25\n",
      "Ramicane     25\n",
      "Stelasyn     24\n",
      "Zoniferol    25\n",
      "Name: Mouse ID, dtype: int64\n",
      "\n",
      "At the end of the treatment, mouse count for each regimen was: \n",
      "Drug Regimen\n",
      "Capomulin    21\n",
      "Ceftamin     13\n",
      "Infubinol     9\n",
      "Ketapril     11\n",
      "Naftisol     13\n",
      "Placebo      11\n",
      "Propriva      7\n",
      "Ramicane     20\n",
      "Stelasyn     11\n",
      "Zoniferol    14\n",
      "Name: Mouse ID, dtype: int64\n",
      "\n",
      "For the above result, mouse survival rate(%) for each regimen was: \n",
      "Drug Regimen\n",
      "Capomulin    84.00\n",
      "Ceftamin     52.00\n",
      "Infubinol    36.00\n",
      "Ketapril     44.00\n",
      "Naftisol     52.00\n",
      "Placebo      44.00\n",
      "Propriva     28.00\n",
      "Ramicane     80.00\n",
      "Stelasyn     45.83\n",
      "Zoniferol    56.00\n",
      "Name: Mouse ID, dtype: float64\n"
     ]
    }
   ],
   "source": [
    "# To calculate survival rate, retrive number of mouse that has timepoint of 45(last date)\n",
    "last_mouse_count = combined_df.loc[combined_df[\"Timepoint\"] == 45]\n",
    "last_mouse_count = last_mouse_count.groupby(\"Drug Regimen\")[\"Mouse ID\"].nunique()\n",
    "\n",
    "# Devide by mouse count at the beginning of treatment\n",
    "survival_rate = round((last_mouse_count / mouse_count_regimen) * 100,2)\n",
    "\n",
    "print(\"In the beginning of the treatment, mouse count for each regimen was: \")\n",
    "print(mouse_count_regimen)\n",
    "print(\"\")\n",
    "\n",
    "print(\"At the end of the treatment, mouse count for each regimen was: \")\n",
    "print(last_mouse_count)\n",
    "print(\"\")\n",
    "\n",
    "print(\"For the above result, mouse survival rate(%) for each regimen was: \")\n",
    "print(survival_rate)"
   ]
  }
 ],
 "metadata": {
  "anaconda-cloud": {},
  "kernelspec": {
   "display_name": "Python 3",
   "language": "python",
   "name": "python3"
  },
  "language_info": {
   "codemirror_mode": {
    "name": "ipython",
    "version": 3
   },
   "file_extension": ".py",
   "mimetype": "text/x-python",
   "name": "python",
   "nbconvert_exporter": "python",
   "pygments_lexer": "ipython3",
   "version": "3.7.4"
  }
 },
 "nbformat": 4,
 "nbformat_minor": 2
}
