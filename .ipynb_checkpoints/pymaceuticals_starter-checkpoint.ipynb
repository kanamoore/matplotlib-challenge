{
 "cells": [
  {
   "cell_type": "markdown",
   "metadata": {},
   "source": [
    "## Observations and Insights"
   ]
  },
  {
   "cell_type": "markdown",
   "metadata": {},
   "source": [
    "\n",
    "\n",
    "\n"
   ]
  },
  {
   "cell_type": "markdown",
   "metadata": {},
   "source": [
    "## Dependencies and starter code"
   ]
  },
  {
   "cell_type": "code",
   "execution_count": 188,
   "metadata": {},
   "outputs": [
    {
     "data": {
      "text/html": [
       "<div>\n",
       "<style scoped>\n",
       "    .dataframe tbody tr th:only-of-type {\n",
       "        vertical-align: middle;\n",
       "    }\n",
       "\n",
       "    .dataframe tbody tr th {\n",
       "        vertical-align: top;\n",
       "    }\n",
       "\n",
       "    .dataframe thead th {\n",
       "        text-align: right;\n",
       "    }\n",
       "</style>\n",
       "<table border=\"1\" class=\"dataframe\">\n",
       "  <thead>\n",
       "    <tr style=\"text-align: right;\">\n",
       "      <th></th>\n",
       "      <th>Mouse ID</th>\n",
       "      <th>Drug Regimen</th>\n",
       "      <th>Sex</th>\n",
       "      <th>Age_months</th>\n",
       "      <th>Weight (g)</th>\n",
       "      <th>Timepoint</th>\n",
       "      <th>Tumor Volume (mm3)</th>\n",
       "      <th>Metastatic Sites</th>\n",
       "    </tr>\n",
       "  </thead>\n",
       "  <tbody>\n",
       "    <tr>\n",
       "      <td>0</td>\n",
       "      <td>k403</td>\n",
       "      <td>Ramicane</td>\n",
       "      <td>Male</td>\n",
       "      <td>21</td>\n",
       "      <td>16</td>\n",
       "      <td>0</td>\n",
       "      <td>45.000000</td>\n",
       "      <td>0</td>\n",
       "    </tr>\n",
       "    <tr>\n",
       "      <td>1</td>\n",
       "      <td>k403</td>\n",
       "      <td>Ramicane</td>\n",
       "      <td>Male</td>\n",
       "      <td>21</td>\n",
       "      <td>16</td>\n",
       "      <td>5</td>\n",
       "      <td>38.825898</td>\n",
       "      <td>0</td>\n",
       "    </tr>\n",
       "    <tr>\n",
       "      <td>2</td>\n",
       "      <td>k403</td>\n",
       "      <td>Ramicane</td>\n",
       "      <td>Male</td>\n",
       "      <td>21</td>\n",
       "      <td>16</td>\n",
       "      <td>10</td>\n",
       "      <td>35.014271</td>\n",
       "      <td>1</td>\n",
       "    </tr>\n",
       "    <tr>\n",
       "      <td>3</td>\n",
       "      <td>k403</td>\n",
       "      <td>Ramicane</td>\n",
       "      <td>Male</td>\n",
       "      <td>21</td>\n",
       "      <td>16</td>\n",
       "      <td>15</td>\n",
       "      <td>34.223992</td>\n",
       "      <td>1</td>\n",
       "    </tr>\n",
       "    <tr>\n",
       "      <td>4</td>\n",
       "      <td>k403</td>\n",
       "      <td>Ramicane</td>\n",
       "      <td>Male</td>\n",
       "      <td>21</td>\n",
       "      <td>16</td>\n",
       "      <td>20</td>\n",
       "      <td>32.997729</td>\n",
       "      <td>1</td>\n",
       "    </tr>\n",
       "  </tbody>\n",
       "</table>\n",
       "</div>"
      ],
      "text/plain": [
       "  Mouse ID Drug Regimen   Sex  Age_months  Weight (g)  Timepoint  \\\n",
       "0     k403     Ramicane  Male          21          16          0   \n",
       "1     k403     Ramicane  Male          21          16          5   \n",
       "2     k403     Ramicane  Male          21          16         10   \n",
       "3     k403     Ramicane  Male          21          16         15   \n",
       "4     k403     Ramicane  Male          21          16         20   \n",
       "\n",
       "   Tumor Volume (mm3)  Metastatic Sites  \n",
       "0           45.000000                 0  \n",
       "1           38.825898                 0  \n",
       "2           35.014271                 1  \n",
       "3           34.223992                 1  \n",
       "4           32.997729                 1  "
      ]
     },
     "execution_count": 188,
     "metadata": {},
     "output_type": "execute_result"
    }
   ],
   "source": [
    "# Dependencies and Setup\n",
    "import matplotlib.pyplot as plt\n",
    "import pandas as pd\n",
    "import scipy.stats as st\n",
    "import numpy as np\n",
    "from scipy.stats import linregress\n",
    "\n",
    "# Study data files\n",
    "mouse_metadata = \"data/Mouse_metadata.csv\"\n",
    "study_results = \"data/Study_results.csv\"\n",
    "\n",
    "# Read the mouse data and the study results\n",
    "mouse_metadata = pd.read_csv(mouse_metadata)\n",
    "study_results = pd.read_csv(study_results)\n",
    "\n",
    "# Combine the data into a single dataset\n",
    "combined_df = pd.merge(mouse_metadata, study_results, on = \"Mouse ID\") \n",
    "combined_df.head()"
   ]
  },
  {
   "cell_type": "markdown",
   "metadata": {},
   "source": [
    "## Summary statistics"
   ]
  },
  {
   "cell_type": "code",
   "execution_count": 189,
   "metadata": {},
   "outputs": [],
   "source": [
    "# Calculate mean of tumor volume by drug regimen\n",
    "mean = combined_df.groupby(\"Drug Regimen\")[\"Tumor Volume (mm3)\"].mean()\n",
    "\n",
    "# Calculate median of tumor volume by drug regimen\n",
    "median = combined_df.groupby(\"Drug Regimen\")[\"Tumor Volume (mm3)\"].median()\n",
    "\n",
    "# Calculate variance of tumor volume by drug regimen\n",
    "variance = combined_df.groupby(\"Drug Regimen\")[\"Tumor Volume (mm3)\"].var()\n",
    "\n",
    "# Calculate standard deviation of tumor volume by drug regimen\n",
    "stdev = combined_df.groupby(\"Drug Regimen\")[\"Tumor Volume (mm3)\"].std()\n",
    "\n",
    "# Calculate SEM of tumor volume by drug regimen\n",
    "sem = combined_df.groupby(\"Drug Regimen\")[\"Tumor Volume (mm3)\"].sem()"
   ]
  },
  {
   "cell_type": "code",
   "execution_count": 190,
   "metadata": {},
   "outputs": [
    {
     "data": {
      "text/html": [
       "<div>\n",
       "<style scoped>\n",
       "    .dataframe tbody tr th:only-of-type {\n",
       "        vertical-align: middle;\n",
       "    }\n",
       "\n",
       "    .dataframe tbody tr th {\n",
       "        vertical-align: top;\n",
       "    }\n",
       "\n",
       "    .dataframe thead th {\n",
       "        text-align: right;\n",
       "    }\n",
       "</style>\n",
       "<table border=\"1\" class=\"dataframe\">\n",
       "  <thead>\n",
       "    <tr style=\"text-align: right;\">\n",
       "      <th></th>\n",
       "      <th>Mean of Tumor Volume (mm3)</th>\n",
       "      <th>Median of Tumor Volume (mm3)</th>\n",
       "      <th>Variance of Tumor Volume (mm3)</th>\n",
       "      <th>Standard Deviation of Tumor Volume (mm3)</th>\n",
       "      <th>SEM of Tumor Volume (mm3)</th>\n",
       "    </tr>\n",
       "    <tr>\n",
       "      <th>Drug Regimen</th>\n",
       "      <th></th>\n",
       "      <th></th>\n",
       "      <th></th>\n",
       "      <th></th>\n",
       "      <th></th>\n",
       "    </tr>\n",
       "  </thead>\n",
       "  <tbody>\n",
       "    <tr>\n",
       "      <td>Capomulin</td>\n",
       "      <td>40.675741</td>\n",
       "      <td>41.557809</td>\n",
       "      <td>24.947764</td>\n",
       "      <td>4.994774</td>\n",
       "      <td>0.329346</td>\n",
       "    </tr>\n",
       "    <tr>\n",
       "      <td>Ceftamin</td>\n",
       "      <td>52.591172</td>\n",
       "      <td>51.776157</td>\n",
       "      <td>39.290177</td>\n",
       "      <td>6.268188</td>\n",
       "      <td>0.469821</td>\n",
       "    </tr>\n",
       "    <tr>\n",
       "      <td>Infubinol</td>\n",
       "      <td>52.884795</td>\n",
       "      <td>51.820584</td>\n",
       "      <td>43.128684</td>\n",
       "      <td>6.567243</td>\n",
       "      <td>0.492236</td>\n",
       "    </tr>\n",
       "    <tr>\n",
       "      <td>Ketapril</td>\n",
       "      <td>55.235638</td>\n",
       "      <td>53.698743</td>\n",
       "      <td>68.553577</td>\n",
       "      <td>8.279709</td>\n",
       "      <td>0.603860</td>\n",
       "    </tr>\n",
       "    <tr>\n",
       "      <td>Naftisol</td>\n",
       "      <td>54.331565</td>\n",
       "      <td>52.509285</td>\n",
       "      <td>66.173479</td>\n",
       "      <td>8.134708</td>\n",
       "      <td>0.596466</td>\n",
       "    </tr>\n",
       "    <tr>\n",
       "      <td>Placebo</td>\n",
       "      <td>54.033581</td>\n",
       "      <td>52.288934</td>\n",
       "      <td>61.168083</td>\n",
       "      <td>7.821003</td>\n",
       "      <td>0.581331</td>\n",
       "    </tr>\n",
       "    <tr>\n",
       "      <td>Propriva</td>\n",
       "      <td>52.322552</td>\n",
       "      <td>50.854632</td>\n",
       "      <td>42.351070</td>\n",
       "      <td>6.507770</td>\n",
       "      <td>0.512884</td>\n",
       "    </tr>\n",
       "    <tr>\n",
       "      <td>Ramicane</td>\n",
       "      <td>40.216745</td>\n",
       "      <td>40.673236</td>\n",
       "      <td>23.486704</td>\n",
       "      <td>4.846308</td>\n",
       "      <td>0.320955</td>\n",
       "    </tr>\n",
       "    <tr>\n",
       "      <td>Stelasyn</td>\n",
       "      <td>54.233149</td>\n",
       "      <td>52.431737</td>\n",
       "      <td>59.450562</td>\n",
       "      <td>7.710419</td>\n",
       "      <td>0.573111</td>\n",
       "    </tr>\n",
       "    <tr>\n",
       "      <td>Zoniferol</td>\n",
       "      <td>53.236507</td>\n",
       "      <td>51.818479</td>\n",
       "      <td>48.533355</td>\n",
       "      <td>6.966589</td>\n",
       "      <td>0.516398</td>\n",
       "    </tr>\n",
       "  </tbody>\n",
       "</table>\n",
       "</div>"
      ],
      "text/plain": [
       "              Mean of Tumor Volume (mm3)  Median of Tumor Volume (mm3)  \\\n",
       "Drug Regimen                                                             \n",
       "Capomulin                      40.675741                     41.557809   \n",
       "Ceftamin                       52.591172                     51.776157   \n",
       "Infubinol                      52.884795                     51.820584   \n",
       "Ketapril                       55.235638                     53.698743   \n",
       "Naftisol                       54.331565                     52.509285   \n",
       "Placebo                        54.033581                     52.288934   \n",
       "Propriva                       52.322552                     50.854632   \n",
       "Ramicane                       40.216745                     40.673236   \n",
       "Stelasyn                       54.233149                     52.431737   \n",
       "Zoniferol                      53.236507                     51.818479   \n",
       "\n",
       "              Variance of Tumor Volume (mm3)  \\\n",
       "Drug Regimen                                   \n",
       "Capomulin                          24.947764   \n",
       "Ceftamin                           39.290177   \n",
       "Infubinol                          43.128684   \n",
       "Ketapril                           68.553577   \n",
       "Naftisol                           66.173479   \n",
       "Placebo                            61.168083   \n",
       "Propriva                           42.351070   \n",
       "Ramicane                           23.486704   \n",
       "Stelasyn                           59.450562   \n",
       "Zoniferol                          48.533355   \n",
       "\n",
       "              Standard Deviation of Tumor Volume (mm3)  \\\n",
       "Drug Regimen                                             \n",
       "Capomulin                                     4.994774   \n",
       "Ceftamin                                      6.268188   \n",
       "Infubinol                                     6.567243   \n",
       "Ketapril                                      8.279709   \n",
       "Naftisol                                      8.134708   \n",
       "Placebo                                       7.821003   \n",
       "Propriva                                      6.507770   \n",
       "Ramicane                                      4.846308   \n",
       "Stelasyn                                      7.710419   \n",
       "Zoniferol                                     6.966589   \n",
       "\n",
       "              SEM of Tumor Volume (mm3)  \n",
       "Drug Regimen                             \n",
       "Capomulin                      0.329346  \n",
       "Ceftamin                       0.469821  \n",
       "Infubinol                      0.492236  \n",
       "Ketapril                       0.603860  \n",
       "Naftisol                       0.596466  \n",
       "Placebo                        0.581331  \n",
       "Propriva                       0.512884  \n",
       "Ramicane                       0.320955  \n",
       "Stelasyn                       0.573111  \n",
       "Zoniferol                      0.516398  "
      ]
     },
     "execution_count": 190,
     "metadata": {},
     "output_type": "execute_result"
    }
   ],
   "source": [
    "# Create a statistic summary table\n",
    "statistic_summary = pd.DataFrame({\"Mean of Tumor Volume (mm3)\" : mean,\n",
    "                                  \"Median of Tumor Volume (mm3)\" : median,\n",
    "                                  \"Variance of Tumor Volume (mm3)\" : variance,\n",
    "                                  \"Standard Deviation of Tumor Volume (mm3)\" : stdev,\n",
    "                                  \"SEM of Tumor Volume (mm3)\" : sem})\n",
    "\n",
    "statistic_summary"
   ]
  },
  {
   "cell_type": "markdown",
   "metadata": {},
   "source": [
    "\n",
    "## Bar plots"
   ]
  },
  {
   "cell_type": "code",
   "execution_count": 187,
   "metadata": {},
   "outputs": [
    {
     "data": {
      "image/png": "[encoded data removed]",
      "text/plain": [
       "<Figure size 720x468 with 1 Axes>"
      ]
     },
     "metadata": {
      "needs_background": "light"
     },
     "output_type": "display_data"
    }
   ],
   "source": [
    "# Retrive data point value for each drug regimen\n",
    "data_point = combined_df[\"Drug Regimen\"].value_counts()\n",
    "\n",
    "# Create a bar plot using pandas\n",
    "pandas_plot = data_point.plot(kind = \"bar\", title = \"Number of Data Points for Each Treatment Regimen\",\n",
    "                                     figsize= (10,6.5), width = 0.75, align = \"center\")\n",
    "\n",
    "# Set x-axis label\n",
    "pandas_plot.set_xlabel(\"Drug Regimen\")\n",
    "\n",
    "# Set y-axis label\n",
    "pandas_plot.set_ylabel(\"Data Points (Days)\")\n",
    "\n",
    "# Set x limit and y limit\n",
    "pandas_plot.set_xlim(-0.75, len(data_point)-0.2)\n",
    "pandas_plot.set_ylim(0, max(data_point) + 20)\n",
    "\n",
    "# Show the bar chart\n",
    "plt.show()"
   ]
  },
  {
   "cell_type": "code",
   "execution_count": 186,
   "metadata": {},
   "outputs": [
    {
     "data": {
      "image/png": "[encoded data removed]",
      "text/plain": [
       "<Figure size 720x468 with 1 Axes>"
      ]
     },
     "metadata": {
      "needs_background": "light"
     },
     "output_type": "display_data"
    }
   ],
   "source": [
    "# Retrive drug regimen and sort the result\n",
    "drug_regimen = sorted(combined_df[\"Drug Regimen\"].unique())\n",
    "\n",
    "# Create 10 x ticks for each regimen\n",
    "x_axis = np.arange(0,10,1)\n",
    "\n",
    "# Change the figure size\n",
    "plt.figure(figsize=(10,6.5))\n",
    "\n",
    "# Create a bar plot using matplotlib\n",
    "plt.bar(x_axis, data_point, width = 0.75, align = \"center\")\n",
    "\n",
    "# Change x axis label to drug regimen\n",
    "tick_locations = [value for value in x_axis]\n",
    "plt.xticks(tick_locations, drug_regimen, rotation = \"vertical\")\n",
    "\n",
    "# Add x axis label\n",
    "plt.xlabel(\"Drug Regimen\")\n",
    "\n",
    "# Add y axis label\n",
    "plt.ylabel(\"Number of Data Points (Days)\")\n",
    "\n",
    "# Add title\n",
    "plt.title(\"Number of Data Points for Each Treatment Regimen\")\n",
    "\n",
    "# Set x limit and y limit\n",
    "plt.xlim(-0.75, len(x_axis)-0.2)\n",
    "plt.ylim(0, max(data_point) + 20)\n",
    "\n",
    "# Show the plot\n",
    "plt.show()"
   ]
  },
  {
   "cell_type": "markdown",
   "metadata": {},
   "source": [
    "## Pie plots"
   ]
  },
  {
   "cell_type": "code",
   "execution_count": 195,
   "metadata": {},
   "outputs": [
    {
     "data": {
      "image/png": "[encoded data removed]",
      "text/plain": [
       "<Figure size 432x288 with 1 Axes>"
      ]
     },
     "metadata": {},
     "output_type": "display_data"
    }
   ],
   "source": [
    "# Drop duplicates of mice id to get unique data\n",
    "gender_mice = combined_df.drop_duplicates(\"Mouse ID\")\n",
    "\n",
    "# Get number counts for male and female mice\n",
    "gender_mice = gender_mice[\"Sex\"].value_counts()\n",
    "\n",
    "# Generate a pie plot showing the distribution of female versus male mice using pandas\n",
    "gender_mice.plot(kind=\"pie\", autopct = \"%1.1f%%\", startangle = 90, title = \"Distribution of Female Mice vs Male Mice\")\n",
    "\n",
    "# Set the pie figure to equal\n",
    "plt.axis(\"equal\")\n",
    "\n",
    "# Set the legend\n",
    "plt.legend(loc = \"upper right\")\n",
    "\n",
    "# Show the plot\n",
    "plt.show()"
   ]
  },
  {
   "cell_type": "code",
   "execution_count": 196,
   "metadata": {},
   "outputs": [
    {
     "data": {
      "image/png": "[encoded data removed]",
      "text/plain": [
       "<Figure size 432x288 with 1 Axes>"
      ]
     },
     "metadata": {},
     "output_type": "display_data"
    }
   ],
   "source": [
    "# Set data labels\n",
    "labels = [\"Male\", \"Female\"]\n",
    "\n",
    "# Generate a pie plot showing the distribution of female versus male mice using pyplot\n",
    "plt.pie(gender_mice, labels = labels, autopct = \"%1.1f%%\", startangle = 90)\n",
    "\n",
    "# Set the title\n",
    "plt.title(\"Distribution of Female Mice vs Male Mice\")\n",
    "\n",
    "# Set the y axis label\n",
    "plt.ylabel(\"Sex\")\n",
    "\n",
    "# Set the pie figure to equal\n",
    "plt.axis(\"equal\")\n",
    "\n",
    "# Set the legend\n",
    "plt.legend(loc = \"upper right\")\n",
    "\n",
    "# Show the plot\n",
    "plt.show()"
   ]
  },
  {
   "cell_type": "markdown",
   "metadata": {},
   "source": [
    "## Quartiles, outliers and boxplots"
   ]
  },
  {
   "cell_type": "code",
   "execution_count": 197,
   "metadata": {},
   "outputs": [
    {
     "data": {
      "text/html": [
       "<div>\n",
       "<style scoped>\n",
       "    .dataframe tbody tr th:only-of-type {\n",
       "        vertical-align: middle;\n",
       "    }\n",
       "\n",
       "    .dataframe tbody tr th {\n",
       "        vertical-align: top;\n",
       "    }\n",
       "\n",
       "    .dataframe thead th {\n",
       "        text-align: right;\n",
       "    }\n",
       "</style>\n",
       "<table border=\"1\" class=\"dataframe\">\n",
       "  <thead>\n",
       "    <tr style=\"text-align: right;\">\n",
       "      <th></th>\n",
       "      <th>Mouse ID</th>\n",
       "      <th>Drug Regimen</th>\n",
       "      <th>Sex</th>\n",
       "      <th>Age_months</th>\n",
       "      <th>Weight (g)</th>\n",
       "      <th>Timepoint</th>\n",
       "      <th>Tumor Volume (mm3)</th>\n",
       "      <th>Metastatic Sites</th>\n",
       "    </tr>\n",
       "  </thead>\n",
       "  <tbody>\n",
       "    <tr>\n",
       "      <td>463</td>\n",
       "      <td>a203</td>\n",
       "      <td>Infubinol</td>\n",
       "      <td>Female</td>\n",
       "      <td>20</td>\n",
       "      <td>23</td>\n",
       "      <td>45</td>\n",
       "      <td>67.973419</td>\n",
       "      <td>2</td>\n",
       "    </tr>\n",
       "    <tr>\n",
       "      <td>473</td>\n",
       "      <td>a251</td>\n",
       "      <td>Infubinol</td>\n",
       "      <td>Female</td>\n",
       "      <td>21</td>\n",
       "      <td>25</td>\n",
       "      <td>45</td>\n",
       "      <td>65.525743</td>\n",
       "      <td>1</td>\n",
       "    </tr>\n",
       "    <tr>\n",
       "      <td>483</td>\n",
       "      <td>a262</td>\n",
       "      <td>Placebo</td>\n",
       "      <td>Female</td>\n",
       "      <td>17</td>\n",
       "      <td>29</td>\n",
       "      <td>45</td>\n",
       "      <td>70.717621</td>\n",
       "      <td>4</td>\n",
       "    </tr>\n",
       "    <tr>\n",
       "      <td>493</td>\n",
       "      <td>a275</td>\n",
       "      <td>Ceftamin</td>\n",
       "      <td>Female</td>\n",
       "      <td>20</td>\n",
       "      <td>28</td>\n",
       "      <td>45</td>\n",
       "      <td>62.999356</td>\n",
       "      <td>3</td>\n",
       "    </tr>\n",
       "    <tr>\n",
       "      <td>500</td>\n",
       "      <td>a366</td>\n",
       "      <td>Stelasyn</td>\n",
       "      <td>Female</td>\n",
       "      <td>16</td>\n",
       "      <td>29</td>\n",
       "      <td>30</td>\n",
       "      <td>63.440686</td>\n",
       "      <td>1</td>\n",
       "    </tr>\n",
       "  </tbody>\n",
       "</table>\n",
       "</div>"
      ],
      "text/plain": [
       "    Mouse ID Drug Regimen     Sex  Age_months  Weight (g)  Timepoint  \\\n",
       "463     a203    Infubinol  Female          20          23         45   \n",
       "473     a251    Infubinol  Female          21          25         45   \n",
       "483     a262      Placebo  Female          17          29         45   \n",
       "493     a275     Ceftamin  Female          20          28         45   \n",
       "500     a366     Stelasyn  Female          16          29         30   \n",
       "\n",
       "     Tumor Volume (mm3)  Metastatic Sites  \n",
       "463           67.973419                 2  \n",
       "473           65.525743                 1  \n",
       "483           70.717621                 4  \n",
       "493           62.999356                 3  \n",
       "500           63.440686                 1  "
      ]
     },
     "execution_count": 197,
     "metadata": {},
     "output_type": "execute_result"
    }
   ],
   "source": [
    "# Retreive the last time point for each mouse\n",
    "last_tumor_volume = combined_df.loc[combined_df.groupby(\"Mouse ID\")[\"Timepoint\"].idxmax()]\n",
    "last_tumor_volume.head()"
   ]
  },
  {
   "cell_type": "code",
   "execution_count": 198,
   "metadata": {},
   "outputs": [
    {
     "data": {
      "text/html": [
       "<div>\n",
       "<style scoped>\n",
       "    .dataframe tbody tr th:only-of-type {\n",
       "        vertical-align: middle;\n",
       "    }\n",
       "\n",
       "    .dataframe tbody tr th {\n",
       "        vertical-align: top;\n",
       "    }\n",
       "\n",
       "    .dataframe thead th {\n",
       "        text-align: right;\n",
       "    }\n",
       "</style>\n",
       "<table border=\"1\" class=\"dataframe\">\n",
       "  <thead>\n",
       "    <tr style=\"text-align: right;\">\n",
       "      <th></th>\n",
       "      <th>Mouse ID</th>\n",
       "      <th>Drug Regimen</th>\n",
       "      <th>Sex</th>\n",
       "      <th>Age_months</th>\n",
       "      <th>Weight (g)</th>\n",
       "      <th>Timepoint</th>\n",
       "      <th>Tumor Volume (mm3)</th>\n",
       "      <th>Metastatic Sites</th>\n",
       "    </tr>\n",
       "  </thead>\n",
       "  <tbody>\n",
       "    <tr>\n",
       "      <td>463</td>\n",
       "      <td>a203</td>\n",
       "      <td>Infubinol</td>\n",
       "      <td>Female</td>\n",
       "      <td>20</td>\n",
       "      <td>23</td>\n",
       "      <td>45</td>\n",
       "      <td>67.973419</td>\n",
       "      <td>2</td>\n",
       "    </tr>\n",
       "    <tr>\n",
       "      <td>473</td>\n",
       "      <td>a251</td>\n",
       "      <td>Infubinol</td>\n",
       "      <td>Female</td>\n",
       "      <td>21</td>\n",
       "      <td>25</td>\n",
       "      <td>45</td>\n",
       "      <td>65.525743</td>\n",
       "      <td>1</td>\n",
       "    </tr>\n",
       "    <tr>\n",
       "      <td>493</td>\n",
       "      <td>a275</td>\n",
       "      <td>Ceftamin</td>\n",
       "      <td>Female</td>\n",
       "      <td>20</td>\n",
       "      <td>28</td>\n",
       "      <td>45</td>\n",
       "      <td>62.999356</td>\n",
       "      <td>3</td>\n",
       "    </tr>\n",
       "    <tr>\n",
       "      <td>327</td>\n",
       "      <td>a411</td>\n",
       "      <td>Ramicane</td>\n",
       "      <td>Male</td>\n",
       "      <td>3</td>\n",
       "      <td>22</td>\n",
       "      <td>45</td>\n",
       "      <td>38.407618</td>\n",
       "      <td>1</td>\n",
       "    </tr>\n",
       "    <tr>\n",
       "      <td>430</td>\n",
       "      <td>a444</td>\n",
       "      <td>Ramicane</td>\n",
       "      <td>Female</td>\n",
       "      <td>10</td>\n",
       "      <td>25</td>\n",
       "      <td>45</td>\n",
       "      <td>43.047543</td>\n",
       "      <td>0</td>\n",
       "    </tr>\n",
       "  </tbody>\n",
       "</table>\n",
       "</div>"
      ],
      "text/plain": [
       "    Mouse ID Drug Regimen     Sex  Age_months  Weight (g)  Timepoint  \\\n",
       "463     a203    Infubinol  Female          20          23         45   \n",
       "473     a251    Infubinol  Female          21          25         45   \n",
       "493     a275     Ceftamin  Female          20          28         45   \n",
       "327     a411     Ramicane    Male           3          22         45   \n",
       "430     a444     Ramicane  Female          10          25         45   \n",
       "\n",
       "     Tumor Volume (mm3)  Metastatic Sites  \n",
       "463           67.973419                 2  \n",
       "473           65.525743                 1  \n",
       "493           62.999356                 3  \n",
       "327           38.407618                 1  \n",
       "430           43.047543                 0  "
      ]
     },
     "execution_count": 198,
     "metadata": {},
     "output_type": "execute_result"
    }
   ],
   "source": [
    "# Calculate the final tumor volume of each mouse across four of the most promising treatment regimens: \n",
    "# Capomulin, Ramicane, Infubinol, and Ceftamin. \n",
    "four_regimen = last_tumor_volume.loc[(last_tumor_volume[\"Drug Regimen\"] == \"Capomulin\") |\n",
    "                                     (last_tumor_volume[\"Drug Regimen\"] == \"Ramicane\") |\n",
    "                                     (last_tumor_volume[\"Drug Regimen\"] == \"Infubinol\") |\n",
    "                                     (last_tumor_volume[\"Drug Regimen\"] == \"Ceftamin\")]\n",
    "\n",
    "four_regimen.head()"
   ]
  },
  {
   "cell_type": "code",
   "execution_count": 138,
   "metadata": {},
   "outputs": [
    {
     "data": {
      "text/plain": [
       "array(['Infubinol', 'Ceftamin', 'Ramicane', 'Capomulin'], dtype=object)"
      ]
     },
     "execution_count": 138,
     "metadata": {},
     "output_type": "execute_result"
    }
   ],
   "source": [
    "# Retrive four drug regimens\n",
    "regimen_name = four_regimen[\"Drug Regimen\"].unique()\n",
    "regimen_name"
   ]
  },
  {
   "cell_type": "code",
   "execution_count": 253,
   "metadata": {},
   "outputs": [
    {
     "name": "stdout",
     "output_type": "stream",
     "text": [
      "Infubinol : Values below 36.83 could be outliers.\n",
      "Infubinol : Values above 82.74 could be outliers.\n",
      "Infubinol : There is 1 potential outliers.\n",
      "Ceftamin : Values below 25.36 could be outliers.\n",
      "Ceftamin : Values above 87.67 could be outliers.\n",
      "Ceftamin : There is 0 potential outliers.\n",
      "Ramicane : Values below 17.91 could be outliers.\n",
      "Ramicane : Values above 54.31 could be outliers.\n",
      "Ramicane : There is 0 potential outliers.\n",
      "Capomulin : Values below 20.7 could be outliers.\n",
      "Capomulin : Values above 51.83 could be outliers.\n",
      "Capomulin : There is 0 potential outliers.\n"
     ]
    }
   ],
   "source": [
    "# For each regimen, calculate quartiles, upper/lower quartile, IQR and lower/upper bound\n",
    "for regimen in regimen_name:\n",
    "    quartiles = four_regimen[\"Tumor Volume (mm3)\"].loc[four_regimen[\"Drug Regimen\"] == regimen].quantile([0.25, 0.5, 0.75])\n",
    "    upperq = quartiles[0.75]\n",
    "    lowerq = quartiles[0.25]\n",
    "    iqr = upperq-lowerq\n",
    "    lower_bound = lowerq - (1.5 * iqr)\n",
    "    upper_bound = upperq + (1.5 * iqr)\n",
    "    min_value = four_regimen[\"Tumor Volume (mm3)\"].loc[four_regimen[\"Drug Regimen\"] == regimen].min()\n",
    "    max_value = four_regimen[\"Tumor Volume (mm3)\"].loc[four_regimen[\"Drug Regimen\"] == regimen].max()\n",
    "    \n",
    "    print(f\"{regimen} : Values below {round(lower_bound,2)} could be outliers.\")\n",
    "    print(f\"{regimen} : Values above {round(upper_bound,2)} could be outliers.\")\n",
    "    #print(f\"{regimen} : Minumum tumor volume is {round(min_value,2)}.\")\n",
    "    #print(f\"{regimen} : Maximun tumor volume is {round(max_value,2)}.\")\n",
    "    \n",
    "    # Create an outliers count\n",
    "    outliers_count = 0\n",
    "    outliers_list = []\n",
    "    for volume in (four_regimen[\"Tumor Volume (mm3)\"].loc[(four_regimen[\"Drug Regimen\"] == regimen)]):\n",
    "        if (volume > upper_bound) | (volume < lower_bound):\n",
    "            outliers_count = outliers_count + 1\n",
    "            outliers_list.append(volume)\n",
    "    print(f\"{regimen} : There is {outliers_count} potential outliers.\")\n",
    "    \n",
    "    \n",
    "    # Add the potential to upper/lower outliers list\n",
    "#    if four_regimen[\"Tumor Volume (mm3)\"].loc[(four_regimen[\"Drug Regimen\"] == regimen) & (four_regimen[\"Tumor Volume (mm3)\"] > upper_bound)]:\n",
    "#                                             |(four_regimen[\"Drug Regimen\"] == regimen) & (four_regimen[\"Tumor Volume (mm3)\"] < lower_bound) ]:\n",
    "#        outliers_list.append(four_regimen[\"Tumor Volume (mm3)\"])\n",
    "\n",
    "    # If there is a potential outliers, show the number of outliers                              "
   ]
  },
  {
   "cell_type": "code",
   "execution_count": 204,
   "metadata": {},
   "outputs": [],
   "source": [
    "# Retrive the last tumor volume for each drug regimen\n",
    "capomulin_volume =  last_tumor_volume.loc[(last_tumor_volume[\"Drug Regimen\"] == \"Capomulin\")]\n",
    "ramicane_volume = last_tumor_volume.loc[(last_tumor_volume[\"Drug Regimen\"] == \"Ramicane\")]\n",
    "infubinol_volume = last_tumor_volume.loc[(last_tumor_volume[\"Drug Regimen\"] == \"Infubinol\")]\n",
    "ceftamin_volume = last_tumor_volume.loc[(last_tumor_volume[\"Drug Regimen\"] == \"Ceftamin\")]"
   ]
  },
  {
   "cell_type": "code",
   "execution_count": 205,
   "metadata": {},
   "outputs": [
    {
     "data": {
      "image/png": "[encoded data removed]",
      "text/plain": [
       "<Figure size 432x288 with 1 Axes>"
      ]
     },
     "metadata": {
      "needs_background": "light"
     },
     "output_type": "display_data"
    }
   ],
   "source": [
    "# Using Matplotlib, generate a box and whisker plot of the final tumor volume for all four treatment regimens\n",
    "data = [infubinol_volume[\"Tumor Volume (mm3)\"],ceftamin_volume[\"Tumor Volume (mm3)\"], \n",
    "        ramicane_volume[\"Tumor Volume (mm3)\"],capomulin_volume[\"Tumor Volume (mm3)\"]]\n",
    "\n",
    "# Highlight any potential outliers in the plot by changing their color and style.\n",
    "yellow_star = dict(markerfacecolor = 'yellow', marker = '*')\n",
    "\n",
    "# Create a subplot\n",
    "fig1, ax1 = plt.subplots()\n",
    "\n",
    "# Set title\n",
    "ax1.set_title('Final Tumor Volume (mm3) by Four Regimen')\n",
    "\n",
    "# Set ylabel\n",
    "ax1.set_ylabel(\"Tumor Volume (mm3)\")\n",
    "\n",
    "# Create a boxplot\n",
    "ax1.boxplot(data, flierprops = yellow_star)\n",
    "\n",
    "# Change the x ticks to regimen name\n",
    "plt.xticks([1,2,3,4], regimen_name)\n",
    "\n",
    "# Show the plot\n",
    "plt.show()"
   ]
  },
  {
   "cell_type": "markdown",
   "metadata": {},
   "source": [
    "## Line and scatter plots"
   ]
  },
  {
   "cell_type": "code",
   "execution_count": 210,
   "metadata": {},
   "outputs": [
    {
     "data": {
      "text/plain": [
       "Text(0, 0.5, 'Tumor Volume (mm3)')"
      ]
     },
     "execution_count": 210,
     "metadata": {},
     "output_type": "execute_result"
    },
    {
     "data": {
      "image/png": "[encoded data removed]",
      "text/plain": [
       "<Figure size 432x288 with 1 Axes>"
      ]
     },
     "metadata": {
      "needs_background": "light"
     },
     "output_type": "display_data"
    }
   ],
   "source": [
    "# Retrive data only for Capomulin\n",
    "capomulin_data = combined_df.loc[(combined_df[\"Drug Regimen\"] == \"Capomulin\")]\n",
    "\n",
    "# Pick a single mouse. In this case, mouse id s195 is picked\n",
    "s185 = capomulin_data.loc[capomulin_data[\"Mouse ID\"] == \"s185\"]\n",
    "\n",
    "## Question : Is x axis and y axis correct? ##\n",
    "# Generate a line plot of time point versus tumor volume for a single mouse treated with Capomulin\n",
    "plt.plot(s185[\"Timepoint\"], s185[\"Tumor Volume (mm3)\"], marker = \"o\")\n",
    "\n",
    "# Set title\n",
    "plt.title(\"Time Point vs Tumor Volume of Mouse s185 (Treated w/ Capomulin)\")\n",
    "\n",
    "# Set xlabel\n",
    "plt.xlabel(\"Time Point (Days)\")\n",
    "\n",
    "# Set ylabel\n",
    "plt.ylabel(\"Tumor Volume (mm3)\")"
   ]
  },
  {
   "cell_type": "code",
   "execution_count": 216,
   "metadata": {},
   "outputs": [
    {
     "data": {
      "image/png": "[encoded data removed]",
      "text/plain": [
       "<Figure size 432x288 with 1 Axes>"
      ]
     },
     "metadata": {
      "needs_background": "light"
     },
     "output_type": "display_data"
    }
   ],
   "source": [
    "# Calculate average data for each mouse that was treated w/ Capomulin\n",
    "avg_mouse = capomulin_data.groupby(\"Mouse ID\").mean()\n",
    "\n",
    "# Retrive tumor volume for each mouse\n",
    "avg_volume = avg_mouse[\"Tumor Volume (mm3)\"]\n",
    "\n",
    "# Retrive average weight for each mouse\n",
    "avg_weight = avg_mouse[\"Weight (g)\"]\n",
    "\n",
    "## Question: Is the x label and y label correct? ##\n",
    "# Generate a scatter plot of mouse weight versus average tumor volume for the Capomulin treatment regimen.\n",
    "plt.scatter(avg_volume, avg_weight)\n",
    "\n",
    "# Set title\n",
    "plt.title(\"Mouse Weight vs Average Tumor Volume (Treated w/ Capomulin)\")\n",
    "\n",
    "# Set xlabel\n",
    "plt.xlabel(\"Tumor Volume (mm3)\")\n",
    "\n",
    "# Set ylabel\n",
    "plt.ylabel(\"Weight (g)\")\n",
    "\n",
    "# Show the plot\n",
    "plt.show()"
   ]
  },
  {
   "cell_type": "code",
   "execution_count": 220,
   "metadata": {},
   "outputs": [
    {
     "name": "stdout",
     "output_type": "stream",
     "text": [
      "The correlation coefficient between mouse weight and average tumor volume for the Capomulin treatment is 0.84\n"
     ]
    },
    {
     "data": {
      "image/png": "[encoded data removed]",
      "text/plain": [
       "<Figure size 432x288 with 1 Axes>"
      ]
     },
     "metadata": {
      "needs_background": "light"
     },
     "output_type": "display_data"
    }
   ],
   "source": [
    "# Calculate the correlation coefficient between mouse weight and average tumor volume for the Capomulin treatment\n",
    "print(f\"The correlation coefficient between mouse weight and average tumor volume for the Capomulin treatment is \\\n",
    "{round(st.pearsonr(avg_volume,avg_weight)[0],2)}\")\n",
    "\n",
    "# Calculate the linear regression model between mouse weight and average tumor volume \n",
    "(slope, intercept, rvalue, pvalue, stderr) = linregress(avg_volume, avg_weight)\n",
    "\n",
    "# Set y = mx + b\n",
    "regress_values = avg_volume * slope + intercept\n",
    "line_eq = \"y = \" + str(round(slope,2)) + \"x + \" + str(round(intercept,2))\n",
    "\n",
    "# Create a scatter plot using average tumor volume and weight\n",
    "plt.scatter(avg_volume, avg_weight)\n",
    "\n",
    "# Set a title\n",
    "plt.title(\"Mouse Weight vs Average Tumor Volume (Treated w/ Capomulin)\")\n",
    "\n",
    "# Set xlabel\n",
    "plt.xlabel(\"Tumor Volume (mm3)\")\n",
    "\n",
    "# Set ylabel\n",
    "plt.ylabel(\"Weight (g)\")\n",
    "\n",
    "# Set the regression line\n",
    "plt.plot(avg_volume,regress_values,\"r-\")\n",
    "\n",
    "# Set the regression line label\n",
    "plt.annotate(line_eq,(40,20),fontsize=15,color=\"red\")\n",
    "\n",
    "# Show the plot\n",
    "plt.show()\n"
   ]
  },
  {
   "cell_type": "code",
   "execution_count": 16,
   "metadata": {},
   "outputs": [],
   "source": [
    "# Look across all previously generated figures and tables and write at least three observations or inferences that can be made from the data. Include these observations at the top of notebook.\n"
   ]
  },
  {
   "cell_type": "code",
   "execution_count": null,
   "metadata": {},
   "outputs": [],
   "source": []
  }
 ],
 "metadata": {
  "anaconda-cloud": {},
  "kernelspec": {
   "display_name": "Python 3",
   "language": "python",
   "name": "python3"
  },
  "language_info": {
   "codemirror_mode": {
    "name": "ipython",
    "version": 3
   },
   "file_extension": ".py",
   "mimetype": "text/x-python",
   "name": "python",
   "nbconvert_exporter": "python",
   "pygments_lexer": "ipython3",
   "version": "3.7.4"
  }
 },
 "nbformat": 4,
 "nbformat_minor": 2
}
